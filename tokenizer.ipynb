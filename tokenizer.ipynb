{
 "cells": [
  {
   "cell_type": "code",
   "execution_count": 1,
   "metadata": {},
   "outputs": [],
   "source": [
    "with open('text.txt','r', encoding ='utf-8') as f:\n",
    "    text = f.read()"
   ]
  },
  {
   "cell_type": "code",
   "execution_count": 2,
   "metadata": {},
   "outputs": [
    {
     "name": "stdout",
     "output_type": "stream",
     "text": [
      "ഉടലെഴുതുന്ന രംഗരചനകൾ - ദേശാഭിമാനി\n",
      "\n",
      "അതിവേഗം പരിണാമങ്ങളെ സ്വാംശീകരിക്കാനും കലാത്മകമായി വികസിപ്പിക്കാനും മറ്റേതു\n",
      "ഭാരതീയ നൃത്തരൂപത്തെക്കാളും കഴിവു തെളിയിച്ച ഭരതനാട്യത്തിന് രമയെപ്പോലുള്ള\n",
      "കലാകാരികൾ അനിവാര്യമാണ്. ഭരതനാട്യത്തെ രമാവൈദ്യനാഥൻ ആവശ്യപ്പെടുന്നതിനോളം\n",
      "തന്നെ, തിരിച്ചും പ്രസക്തമായ ഈ വാസ്തവമാണ് അനേകം നർത്തകികളിൽ അവരെ\n",
      "പ്രസക്തയാക്കുന്നതും. - പ്രശസ്ത തെന്നിന്ത്യൻ നർത്തകി രമാവൈദ്യനാഥന്റെ\n",
      "കലാജീവിതത്തെക്കുറിച്ച് വേറിട്ടൊരു വിലയിരുത്തൽ.\n",
      "\n",
      "മദ്രാസ് മ്യൂസിയത്തിലെ ആർട്ട് ഗാലറിയുടെ ചിത്രസമൃദ്ധിയിൽ, എ പി സന്താനരാജിന്റെ\n",
      "ഒരു പേരിടാച്ചിത്രമുണ്ട്. ജലവിതാനത്തിലേക്ക് ഊർന്നിറങ്ങിയ ഒരു പെണ്ണുടലും ആ\n",
      "ഉടലിന്റെ തന്മ യെന്നോണം അതിലും ഉഗ്രദീപ്തമായൊരു നിഴലിന്റെ ജലദൃശ്യവും. ചുറ്റും\n",
      "തീവ്രമായൊരു ഉദ്വേഗത്തോടെ പ്രകൃതിയും കാണാം. ഉടലിനെ ജലം വായിച്ചതെങ്ങനെ എന്ന്\n",
      "ഉൽക്കണ്ഠയോടെ ഉറ്റുനോക്കുകയാണ് ചുറ്റുമുള്ള ചരാചരം. ചിത്രത്തിന് പേരിടാതെപോയത്\n",
      "എന്തുകൊണ്ടോ, അറിയില്ല. പക്ഷേ, മെയ്യെഴുത്തിന്റെ കവിത കാൻവാസിൽ ഇങ്ങനെ\n",
      "പൂത്തുലയുന്നത് അത്യപൂർവമെന്ന് നോക്കിനിൽക്കുന്തോറും ബോധ്യമാവും. ഭാരതീയ\n",
      "നൃത്തവും അതിന്റെ ഭാവനയും വാസ്തവത്തിൽ ആ പേരിടാച്ചിത്രത\n"
     ]
    }
   ],
   "source": [
    "print(text[:1000])"
   ]
  },
  {
   "cell_type": "code",
   "execution_count": 4,
   "metadata": {},
   "outputs": [
    {
     "name": "stdout",
     "output_type": "stream",
     "text": [
      "Length of the chatracters = 23332\n"
     ]
    }
   ],
   "source": [
    "print(\"Length of the chatracters =\",len(text))"
   ]
  },
  {
   "cell_type": "code",
   "execution_count": 7,
   "metadata": {},
   "outputs": [
    {
     "name": "stdout",
     "output_type": "stream",
     "text": [
      "Unique characters = {',', 'സ', 'ഃ', '`', '\\n', 'ത', 'ട', 's', 'o', 'ഡ', 'M', 'g', 'd', 'ഠ', 'ര', 'ി', 'യ', 'ൃ', 'c', 'ല', 'ാ', 'ഒ', 'b', 'ശ', '?', 'ഭ', ';', 'e', 'a', 'ൂ', '(', ' ', 'ച', 'ന', 'ഏ', 'ഫ', 'l', 'മ', 'ബ', 'ഷ', 'n', 'ു', 'ഈ', 'ഖ', '-', 'ഇ', 'ൽ', 'ൗ', 'p', 'ഉ', 'ഓ', 'െ', 'ഥ', 'ം', 'ഴ', 'ള', 'ൊ', '\"', 'ൾ', '്', 'i', 'പ', 'ജ', 'ങ', '9', 'y', 'v', 'ഛ', 'D', 'ീ', 'ർ', 'ദ', 'ഊ', 't', '1', 'ൈ', 'ഐ', 'േ', 'ൻ', 'ക', \"'\", 'റ', 'ണ', 'ഘ', 'ധ', 'ഗ', 'r', 'എ', '2', 'ഞ', 'ൺ', 'ോ', 'അ', 'വ', '.', '3', '!', 'ആ', ')', 'ഹ'}\n",
      "Number of unique characters =  100\n"
     ]
    }
   ],
   "source": [
    "chars = set(list(text))\n",
    "print (\"Unique characters =\",chars)\n",
    "vocab_size = len(chars)\n",
    "print(\"Number of unique characters = \", vocab_size)"
   ]
  },
  {
   "cell_type": "code",
   "execution_count": 13,
   "metadata": {},
   "outputs": [
    {
     "name": "stdout",
     "output_type": "stream",
     "text": [
      "[37, 71, 59, 14, 20, 1, 59]\n",
      "മദ്രാസ്\n"
     ]
    }
   ],
   "source": [
    "stoi = {ch:i for i,ch in enumerate(chars)}\n",
    "itos = {i:ch for i,ch in enumerate(chars)}\n",
    "encode = lambda s: [stoi[c] for c in s]\n",
    "decode = lambda l: ''.join([itos[i]for i in l])\n",
    "encoded_word = encode(\"മദ്രാസ്\")\n",
    "print(encoded_word)\n",
    "decoded_word = decode(encoded_word)\n",
    "print(decoded_word)"
   ]
  }
 ],
 "metadata": {
  "kernelspec": {
   "display_name": "Python 3 (ipykernel)",
   "language": "python",
   "name": "python3"
  },
  "language_info": {
   "codemirror_mode": {
    "name": "ipython",
    "version": 3
   },
   "file_extension": ".py",
   "mimetype": "text/x-python",
   "name": "python",
   "nbconvert_exporter": "python",
   "pygments_lexer": "ipython3",
   "version": "3.10.6"
  }
 },
 "nbformat": 4,
 "nbformat_minor": 2
}
